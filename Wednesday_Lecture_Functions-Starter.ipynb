{
 "cells": [
  {
   "cell_type": "markdown",
   "metadata": {},
   "source": [
    "# Functions"
   ]
  },
  {
   "cell_type": "markdown",
   "metadata": {},
   "source": [
    "#### Warm up"
   ]
  },
  {
   "cell_type": "code",
   "execution_count": 2,
   "metadata": {},
   "outputs": [
    {
     "name": "stdout",
     "output_type": "stream",
     "text": [
      "['The Beatles', 'The Rolling Stones', 'The Eagles', 'The Temptations']\n"
     ]
    }
   ],
   "source": [
    "bands = ['  thE beATles   ', 'tHe RoLLing sTones..', '.,tHe eagles', 'the tEMptationS  ']\n",
    "\n",
    "new_bands = [band.title().strip('. ,') for band in bands]\n",
    "print(new_bands)\n",
    "\n"
   ]
  },
  {
   "cell_type": "code",
   "execution_count": null,
   "metadata": {},
   "outputs": [],
   "source": [
    "# Output: ['The Beatles', 'The Rolling Stones', etc]"
   ]
  },
  {
   "cell_type": "code",
   "execution_count": 4,
   "metadata": {},
   "outputs": [
    {
     "name": "stdout",
     "output_type": "stream",
     "text": [
      "['The Who', 'The Doors', 'The Band', 'The Kinks']\n"
     ]
    }
   ],
   "source": [
    "bands2 = [' The whO  ', '  .   , tHE dOORS  ', ' the bAnd   ', '...,  THE kINks    ']\n",
    "\n",
    "\n",
    "print([band2.title().strip('. ,') for band2 in bands2])\n"
   ]
  },
  {
   "cell_type": "markdown",
   "metadata": {},
   "source": [
    "## Functions"
   ]
  },
  {
   "cell_type": "markdown",
   "metadata": {},
   "source": [
    "##### User-Defined vs. Built-In Function"
   ]
  },
  {
   "cell_type": "code",
   "execution_count": null,
   "metadata": {},
   "outputs": [],
   "source": [
    "# Built-in functions\n",
    "#Dont\n",
    "#Repeat\n",
    "#Yourself"
   ]
  },
  {
   "cell_type": "code",
   "execution_count": 5,
   "metadata": {},
   "outputs": [
    {
     "name": "stdout",
     "output_type": "stream",
     "text": [
      "<function say_hello at 0x00000209F5668EE0>\n"
     ]
    }
   ],
   "source": [
    "# User Defined Function\n",
    "# Syntax: def function_name():\n",
    "#             <CODE TO EXECUTE WHEN CALLED>\n",
    "\n",
    "# Creating a function\n",
    "\n",
    "def say_hello():\n",
    "    print('Hello world!')\n",
    "    \n",
    "print(say_hello)"
   ]
  },
  {
   "cell_type": "code",
   "execution_count": 6,
   "metadata": {},
   "outputs": [
    {
     "name": "stdout",
     "output_type": "stream",
     "text": [
      "Help on function say_hello in module __main__:\n",
      "\n",
      "say_hello()\n",
      "\n"
     ]
    }
   ],
   "source": [
    "help(say_hello)"
   ]
  },
  {
   "cell_type": "code",
   "execution_count": 7,
   "metadata": {},
   "outputs": [
    {
     "name": "stdout",
     "output_type": "stream",
     "text": [
      "Before Execution\n",
      "Hello world\n",
      "After Exectution\n"
     ]
    }
   ],
   "source": [
    "# Executing a function\n",
    "# Syntax: function_name()\n",
    "\n",
    "print('Before Execution')\n",
    "say_hello() # executing the function - dont forget the ()\n",
    "print('After Exectution')\n"
   ]
  },
  {
   "cell_type": "markdown",
   "metadata": {},
   "source": [
    "##### Accepting Parameters"
   ]
  },
  {
   "cell_type": "code",
   "execution_count": 14,
   "metadata": {},
   "outputs": [
    {
     "name": "stdout",
     "output_type": "stream",
     "text": [
      "Hello nikki cando\n"
     ]
    }
   ],
   "source": [
    "# Syntax: def function_name(param1, param2):\n",
    "#             <CODE TO EXECUTE with variable param1 and param2>\n",
    "def say_hello_again(first, last): # < first and last are parameters (aka placeholders)\n",
    "    print(f'Hello {first} {last}')\n",
    "\n",
    "    \n",
    "# Execute\n",
    "# Syntax: function_name(data1, data2)\n",
    "say_hello_again(\"nikki\",\"cando\") # <- nikki and cando are arguments (aka real data)"
   ]
  },
  {
   "cell_type": "code",
   "execution_count": 15,
   "metadata": {},
   "outputs": [
    {
     "name": "stdout",
     "output_type": "stream",
     "text": [
      "Hello cando nikki\n"
     ]
    }
   ],
   "source": [
    "say_hello_again(\"cando\", \"nikki\")"
   ]
  },
  {
   "cell_type": "markdown",
   "metadata": {},
   "source": [
    "##### Passing in variables as parameters"
   ]
  },
  {
   "cell_type": "code",
   "execution_count": 19,
   "metadata": {},
   "outputs": [
    {
     "name": "stdout",
     "output_type": "stream",
     "text": [
      "Chicago, IL, - 60060\n",
      "Boston, MA, - 02215\n"
     ]
    }
   ],
   "source": [
    "city1 = 'Boston'\n",
    "state1 = 'MA'\n",
    "zip_code1 = '02215'\n",
    "\n",
    "city2 = 'New York'\n",
    "state2 = 'NY'\n",
    "zip_code2 = '10234'\n",
    "\n",
    "def print_formatted_address(city, state, zip_code):\n",
    "    print(f\"{city}, {state}, - {zip_code}\")\n",
    "    \n",
    "print_formatted_address(\"Chicago\", \"IL\", \"60060\")\n",
    "print_formatted_address(city1, state1, zip_code1)          "
   ]
  },
  {
   "cell_type": "code",
   "execution_count": 56,
   "metadata": {},
   "outputs": [
    {
     "ename": "SyntaxError",
     "evalue": "invalid syntax (758251473.py, line 1)",
     "output_type": "error",
     "traceback": [
      "\u001b[1;36m  File \u001b[1;32m\"C:\\Users\\nikki\\AppData\\Local\\Temp\\ipykernel_131704\\758251473.py\"\u001b[1;36m, line \u001b[1;32m1\u001b[0m\n\u001b[1;33m    my_string1 =\u001b[0m\n\u001b[1;37m                ^\u001b[0m\n\u001b[1;31mSyntaxError\u001b[0m\u001b[1;31m:\u001b[0m invalid syntax\n"
     ]
    }
   ],
   "source": [
    "my_string1 =\n",
    "\n",
    "print(\"\"\"\n",
    "Hello this is a\n",
    "multiline string\n",
    "that does not require\n",
    "any special characters\n",
    "for the multilines\n",
    "\"\"\"\n",
    "      \n",
    "print(my_string1)"
   ]
  },
  {
   "cell_type": "code",
   "execution_count": 23,
   "metadata": {},
   "outputs": [
    {
     "name": "stdout",
     "output_type": "stream",
     "text": [
      "Hello this is a\n",
      "multiline string\n",
      "that does require\n",
      "special characters\n",
      "for the multiline\n"
     ]
    }
   ],
   "source": [
    "my_string2 = \"Hello this is a\\nmultiline string\\nthat does require\\nspecial characters\\nfor the multiline\"\n",
    "print(my_string2)"
   ]
  },
  {
   "cell_type": "code",
   "execution_count": 25,
   "metadata": {},
   "outputs": [],
   "source": [
    "def create_mailing_address(first_name, last_name, address, city, state, zip_code):\n",
    "    print(f\"\"\"\n",
    "{first_name.title()} {last_name.title()}\n",
    "{address.title()}\n",
    "{city.title()}, {state.upper()} {zip_code}\n",
    "    \"\"\")"
   ]
  },
  {
   "cell_type": "code",
   "execution_count": 26,
   "metadata": {},
   "outputs": [
    {
     "name": "stdout",
     "output_type": "stream",
     "text": [
      "What is the first name? nikki\n",
      "What is the last name? cando\n",
      "What is Nikki's address? 113\n",
      "In which city? voorhees\n",
      "What is the state postal code? 08043\n",
      "What is the zip code? 856\n",
      "\n",
      "Nikki Cando\n",
      "113\n",
      "Voorhees, 08043 856\n",
      "    \n"
     ]
    }
   ],
   "source": [
    "first = input('What is the first name? ')\n",
    "last = input('What is the last name? ')\n",
    "address = input(f\"What is {first.title()}'s address? \")\n",
    "city = input('In which city? ')\n",
    "state = input('What is the state postal code? ')\n",
    "zip_code = input('What is the zip code? ')\n",
    "\n",
    "create_mailing_address(first, last, address, city, state, zip_code)"
   ]
  },
  {
   "cell_type": "markdown",
   "metadata": {},
   "source": [
    "##### Keyword Arguments"
   ]
  },
  {
   "cell_type": "code",
   "execution_count": 31,
   "metadata": {},
   "outputs": [],
   "source": [
    "def make_a_payment(total_amount_due, amount_paid, account_number):\n",
    "    new_total = total_amount_due - amount_paid\n",
    "    print(f\"You have made a payment of ${amount_paid} to Account #{account_number}\")\n",
    "    print(f\"Your new balance is ${new_total}\")\n",
    "    print(\"Thank you for your payment\")"
   ]
  },
  {
   "cell_type": "code",
   "execution_count": 32,
   "metadata": {},
   "outputs": [
    {
     "name": "stdout",
     "output_type": "stream",
     "text": [
      "You have made a payment of $213 to Account #34347893\n",
      "Your new balance is $287\n",
      "Thank you for your payment\n"
     ]
    }
   ],
   "source": [
    "make_a_payment(account_number='34347893', amount_paid=213, total_amount_due=500)"
   ]
  },
  {
   "cell_type": "markdown",
   "metadata": {},
   "source": [
    "##### Default Parameters"
   ]
  },
  {
   "cell_type": "code",
   "execution_count": 40,
   "metadata": {
    "scrolled": true
   },
   "outputs": [],
   "source": [
    " #default parameters need to be AFTER non-default at all time\n",
    "    \n",
    "def make_a_burger(customer_name, cheese=True, lettuce=True, tomatoe=True, onions=''):\n",
    "    total_price = 4.50\n",
    "    receipt = f\"Thank you {customer_name}. Here is your receipt:\\n\"\n",
    "    if cheese:\n",
    "        receipt += \"\\twith cheese\\n\"\n",
    "    if lettuce:\n",
    "        receipt += \"\\twith lettuce\\n\"\n",
    "    if tomatoe:\n",
    "        receipt += \"\\twith tomatoe\\n\"\n",
    "    if onions:\n",
    "        receipt += f\"\\twith {onions} onions\"\n",
    "        total_price += .50\n",
    "        \n",
    "    receipt += f\"Total: ${total_price:.2f}\"\n",
    "    print(receipt)\n",
    "        "
   ]
  },
  {
   "cell_type": "code",
   "execution_count": 41,
   "metadata": {},
   "outputs": [
    {
     "name": "stdout",
     "output_type": "stream",
     "text": [
      "Thank you nikki. Here is your receipt:\n",
      "\twith cheese\n",
      "\twith lettuce\n",
      "\twith tomatoe\n",
      "Total: $4.50\n"
     ]
    }
   ],
   "source": [
    "make_a_burger('nikki')"
   ]
  },
  {
   "cell_type": "markdown",
   "metadata": {},
   "source": [
    "##### \\*args and **kwargs"
   ]
  },
  {
   "cell_type": "code",
   "execution_count": 42,
   "metadata": {},
   "outputs": [
    {
     "name": "stdout",
     "output_type": "stream",
     "text": [
      "Help on built-in function max in module builtins:\n",
      "\n",
      "max(...)\n",
      "    max(iterable, *[, default=obj, key=func]) -> value\n",
      "    max(arg1, arg2, *args, *[, key=func]) -> value\n",
      "    \n",
      "    With a single iterable argument, return its biggest item. The\n",
      "    default keyword-only argument specifies an object to return if\n",
      "    the provided iterable is empty.\n",
      "    With two or more arguments, return the largest argument.\n",
      "\n"
     ]
    }
   ],
   "source": [
    " help(max)"
   ]
  },
  {
   "cell_type": "code",
   "execution_count": 44,
   "metadata": {
    "scrolled": true
   },
   "outputs": [
    {
     "data": {
      "text/plain": [
       "84641"
      ]
     },
     "execution_count": 44,
     "metadata": {},
     "output_type": "execute_result"
    }
   ],
   "source": [
    "max(518, 186, 1616, 632, 846, 84641)"
   ]
  },
  {
   "cell_type": "code",
   "execution_count": 52,
   "metadata": {},
   "outputs": [
    {
     "name": "stdout",
     "output_type": "stream",
     "text": [
      "Arg1: a\n"
     ]
    },
    {
     "ename": "NameError",
     "evalue": "name 'extras' is not defined",
     "output_type": "error",
     "traceback": [
      "\u001b[1;31m---------------------------------------------------------------------------\u001b[0m",
      "\u001b[1;31mNameError\u001b[0m                                 Traceback (most recent call last)",
      "\u001b[1;32m~\\AppData\\Local\\Temp\\ipykernel_131704\\3544298890.py\u001b[0m in \u001b[0;36m<module>\u001b[1;34m\u001b[0m\n\u001b[0;32m      5\u001b[0m        \u001b[0mprint\u001b[0m\u001b[1;33m(\u001b[0m\u001b[0mtype\u001b[0m\u001b[1;33m(\u001b[0m\u001b[0mextras\u001b[0m\u001b[1;33m)\u001b[0m\u001b[1;33m)\u001b[0m\u001b[1;33m\u001b[0m\u001b[1;33m\u001b[0m\u001b[0m\n\u001b[0;32m      6\u001b[0m \u001b[1;33m\u001b[0m\u001b[0m\n\u001b[1;32m----> 7\u001b[1;33m \u001b[0mmy_function\u001b[0m\u001b[1;33m(\u001b[0m\u001b[1;34m'a'\u001b[0m\u001b[1;33m,\u001b[0m \u001b[1;34m'b'\u001b[0m\u001b[1;33m,\u001b[0m \u001b[1;34m'c'\u001b[0m\u001b[1;33m,\u001b[0m \u001b[1;34m'd'\u001b[0m\u001b[1;33m,\u001b[0m \u001b[1;34m'e'\u001b[0m\u001b[1;33m,\u001b[0m \u001b[1;34m'f'\u001b[0m\u001b[1;33m)\u001b[0m\u001b[1;33m\u001b[0m\u001b[1;33m\u001b[0m\u001b[0m\n\u001b[0m",
      "\u001b[1;32m~\\AppData\\Local\\Temp\\ipykernel_131704\\3544298890.py\u001b[0m in \u001b[0;36mmy_function\u001b[1;34m(arg1, *args)\u001b[0m\n\u001b[0;32m      1\u001b[0m \u001b[1;32mdef\u001b[0m \u001b[0mmy_function\u001b[0m\u001b[1;33m(\u001b[0m\u001b[0marg1\u001b[0m\u001b[1;33m,\u001b[0m \u001b[1;33m*\u001b[0m\u001b[0margs\u001b[0m\u001b[1;33m)\u001b[0m\u001b[1;33m:\u001b[0m\u001b[1;33m\u001b[0m\u001b[1;33m\u001b[0m\u001b[0m\n\u001b[0;32m      2\u001b[0m        \u001b[0mprint\u001b[0m\u001b[1;33m(\u001b[0m\u001b[1;34m'Arg1:'\u001b[0m\u001b[1;33m,\u001b[0m \u001b[0marg1\u001b[0m\u001b[1;33m)\u001b[0m\u001b[1;33m\u001b[0m\u001b[1;33m\u001b[0m\u001b[0m\n\u001b[1;32m----> 3\u001b[1;33m        \u001b[0mprint\u001b[0m\u001b[1;33m(\u001b[0m\u001b[1;34m'Args:'\u001b[0m\u001b[1;33m,\u001b[0m \u001b[0mextras\u001b[0m\u001b[1;33m)\u001b[0m\u001b[1;33m\u001b[0m\u001b[1;33m\u001b[0m\u001b[0m\n\u001b[0m\u001b[0;32m      4\u001b[0m        \u001b[0mprint\u001b[0m\u001b[1;33m(\u001b[0m\u001b[1;34m'Last Arg:'\u001b[0m\u001b[1;33m,\u001b[0m \u001b[0mlast_arg\u001b[0m\u001b[1;33m)\u001b[0m\u001b[1;33m\u001b[0m\u001b[1;33m\u001b[0m\u001b[0m\n\u001b[0;32m      5\u001b[0m        \u001b[0mprint\u001b[0m\u001b[1;33m(\u001b[0m\u001b[0mtype\u001b[0m\u001b[1;33m(\u001b[0m\u001b[0mextras\u001b[0m\u001b[1;33m)\u001b[0m\u001b[1;33m)\u001b[0m\u001b[1;33m\u001b[0m\u001b[1;33m\u001b[0m\u001b[0m\n",
      "\u001b[1;31mNameError\u001b[0m: name 'extras' is not defined"
     ]
    }
   ],
   "source": [
    " def my_function(arg1, *args):\n",
    "        print('Arg1:', arg1)\n",
    "        print('Args:', extras)\n",
    "        print('Last Arg:', last_arg)\n",
    "        print(type(extras))\n",
    "        \n",
    "my_function('a', 'b', 'c', 'd', 'e', 'f')"
   ]
  },
  {
   "cell_type": "code",
   "execution_count": null,
   "metadata": {},
   "outputs": [],
   "source": [
    "def my_max(arg1, arg2, *args):\n",
    "    current_max = arg1 > arg2 else arg2\n",
    "    if args:\n",
    "        for num in args:\n",
    "            if num > current_max = num\n",
    "            "
   ]
  },
  {
   "cell_type": "code",
   "execution_count": 54,
   "metadata": {},
   "outputs": [
    {
     "name": "stdout",
     "output_type": "stream",
     "text": [
      "Arg1: a\n",
      "Args: ('b', 'c', 'd', 'e', 'f')\n",
      "Kwargs: {'key': 'value', 'num': 10}\n",
      "<class 'dict'>\n"
     ]
    }
   ],
   "source": [
    " def my_function(arg1, *args, **kwargs):\n",
    "        print('Arg1:', arg1)\n",
    "        print('Args:', args)\n",
    "        \n",
    "        print('Kwargs:', kwargs)\n",
    "        print(type(kwargs))\n",
    "        \n",
    "my_function('a', 'b', 'c', 'd', 'e', 'f', key='value', num=10)"
   ]
  },
  {
   "cell_type": "markdown",
   "metadata": {},
   "source": [
    "#### In Class Exercise 1"
   ]
  },
  {
   "cell_type": "markdown",
   "metadata": {},
   "source": [
    "Create a function that takes in a color, make, and model and formats it into a string.<br>\n",
    "Then loop over the cars list and apply the function to each element.<br>\n",
    "Expected Output:<br>\n",
    "<code>Blue Toyota Tundra\n",
    "Green Chevy Silverado\n",
    "Pink Ford F-150</code>\n"
   ]
  },
  {
   "cell_type": "code",
   "execution_count": 55,
   "metadata": {},
   "outputs": [
    {
     "name": "stdout",
     "output_type": "stream",
     "text": [
      "('blue', 'toyota', 'tundra')\n",
      "('green', 'chevy', 'silverado')\n",
      "('pink', 'ford', 'f-150')\n",
      "('red', 'ford', 'mustang')\n",
      "('yellow', 'toyota', 'prius')\n"
     ]
    }
   ],
   "source": [
    "cars = [\n",
    "    ('blue', 'toyota', 'tundra'), \n",
    "    ('green', 'chevy', 'silverado'), \n",
    "    ('pink', 'ford', 'f-150'), \n",
    "    ('red', 'ford', 'mustang'),\n",
    "    ('yellow', 'toyota', 'prius')\n",
    "]\n",
    "\n",
    "for car in cars:\n",
    "    print(car)"
   ]
  },
  {
   "cell_type": "code",
   "execution_count": 65,
   "metadata": {},
   "outputs": [
    {
     "name": "stdout",
     "output_type": "stream",
     "text": [
      "Green Toyota Rav-4\n"
     ]
    }
   ],
   "source": [
    "def format_car(color, make, model):\n",
    "    print(f\"{color.title()} {make.title()} {model.title()}\")\n",
    "format_car('green', 'toyota', 'rav-4')"
   ]
  },
  {
   "cell_type": "code",
   "execution_count": 66,
   "metadata": {},
   "outputs": [
    {
     "ename": "TypeError",
     "evalue": "'function' object is not iterable",
     "output_type": "error",
     "traceback": [
      "\u001b[1;31m---------------------------------------------------------------------------\u001b[0m",
      "\u001b[1;31mTypeError\u001b[0m                                 Traceback (most recent call last)",
      "\u001b[1;32m~\\AppData\\Local\\Temp\\ipykernel_131704\\4062459927.py\u001b[0m in \u001b[0;36m<module>\u001b[1;34m\u001b[0m\n\u001b[1;32m----> 1\u001b[1;33m \u001b[1;32mfor\u001b[0m \u001b[0mcar\u001b[0m \u001b[1;32min\u001b[0m \u001b[0mcars\u001b[0m\u001b[1;33m:\u001b[0m\u001b[1;33m\u001b[0m\u001b[1;33m\u001b[0m\u001b[0m\n\u001b[0m\u001b[0;32m      2\u001b[0m     \u001b[0mformat_car\u001b[0m\u001b[1;33m(\u001b[0m\u001b[0mcar\u001b[0m\u001b[1;33m[\u001b[0m\u001b[1;36m0\u001b[0m\u001b[1;33m]\u001b[0m\u001b[1;33m,\u001b[0m \u001b[0mcar\u001b[0m\u001b[1;33m[\u001b[0m\u001b[1;36m1\u001b[0m\u001b[1;33m]\u001b[0m\u001b[1;33m,\u001b[0m \u001b[0mcar\u001b[0m\u001b[1;33m[\u001b[0m\u001b[1;36m2\u001b[0m\u001b[1;33m]\u001b[0m\u001b[1;33m)\u001b[0m\u001b[1;33m\u001b[0m\u001b[1;33m\u001b[0m\u001b[0m\n",
      "\u001b[1;31mTypeError\u001b[0m: 'function' object is not iterable"
     ]
    }
   ],
   "source": [
    "for car in cars:\n",
    "    format_car(car[0], car[1], car[2])"
   ]
  },
  {
   "cell_type": "code",
   "execution_count": 67,
   "metadata": {},
   "outputs": [
    {
     "ename": "TypeError",
     "evalue": "'function' object is not iterable",
     "output_type": "error",
     "traceback": [
      "\u001b[1;31m---------------------------------------------------------------------------\u001b[0m",
      "\u001b[1;31mTypeError\u001b[0m                                 Traceback (most recent call last)",
      "\u001b[1;32m~\\AppData\\Local\\Temp\\ipykernel_131704\\3023323270.py\u001b[0m in \u001b[0;36m<module>\u001b[1;34m\u001b[0m\n\u001b[1;32m----> 1\u001b[1;33m \u001b[1;32mfor\u001b[0m \u001b[0mcar\u001b[0m \u001b[1;32min\u001b[0m \u001b[0mcars\u001b[0m\u001b[1;33m:\u001b[0m\u001b[1;33m\u001b[0m\u001b[1;33m\u001b[0m\u001b[0m\n\u001b[0m\u001b[0;32m      2\u001b[0m         \u001b[0mformat_car\u001b[0m\u001b[1;33m(\u001b[0m\u001b[1;33m*\u001b[0m\u001b[0mcar\u001b[0m\u001b[1;33m)\u001b[0m\u001b[1;33m\u001b[0m\u001b[1;33m\u001b[0m\u001b[0m\n\u001b[0;32m      3\u001b[0m \u001b[1;33m\u001b[0m\u001b[0m\n",
      "\u001b[1;31mTypeError\u001b[0m: 'function' object is not iterable"
     ]
    }
   ],
   "source": [
    "for car in cars:\n",
    "        format_car(*car)\n",
    "    "
   ]
  },
  {
   "cell_type": "code",
   "execution_count": 59,
   "metadata": {},
   "outputs": [],
   "source": [
    "def cars(color, make, model):\n",
    "    print(f\"\"\"\n",
    "{color.title()} {make.title()} {model.title()}\n",
    "    \"\"\")"
   ]
  },
  {
   "cell_type": "code",
   "execution_count": 61,
   "metadata": {},
   "outputs": [
    {
     "name": "stdout",
     "output_type": "stream",
     "text": [
      "What is the color? blue \n",
      "What is the make? toyota\n",
      "What is Toyota's model? tundra\n",
      "\n",
      "Blue  Toyota Tundra\n",
      "    \n"
     ]
    }
   ],
   "source": [
    "color = input('What is the color? ')\n",
    "make = input('What is the make? ')\n",
    "model = input(f\"What is {make.title()}'s model? \")\n",
    "\n",
    "cars(color, make, model)"
   ]
  },
  {
   "cell_type": "code",
   "execution_count": null,
   "metadata": {},
   "outputs": [],
   "source": [
    "for col"
   ]
  },
  {
   "cell_type": "markdown",
   "metadata": {},
   "source": [
    "## Scope <br>\n",
    "<p>Scope refers to the ability to access variables, different types of scope include:<br>a) Global<br>b) Function (local)<br>c) Class (local)</p>"
   ]
  },
  {
   "cell_type": "code",
   "execution_count": 68,
   "metadata": {},
   "outputs": [
    {
     "name": "stdout",
     "output_type": "stream",
     "text": [
      "New York\n"
     ]
    }
   ],
   "source": [
    "print(city2)"
   ]
  },
  {
   "cell_type": "code",
   "execution_count": 79,
   "metadata": {},
   "outputs": [
    {
     "name": "stdout",
     "output_type": "stream",
     "text": [
      "Student: Jimmy Smith\n",
      "Jimmy Smith has been assigned to Ms. Buttercup's class\n"
     ]
    }
   ],
   "source": [
    "student = \"Little Jimmy\" #global\n",
    "teacher = \"Ms. Buttercup\" #global\n",
    "\n",
    "def assign_student(student_name): #local\n",
    "    student = 'Jimmy Smith' # Local variable\n",
    "    print('Student:', student)\n",
    "    new_variable = 'Hello' #Local variable scoped to the function\n",
    "    print(f\"{student} has been assigned to {teacher}'s class\")\n",
    "    \n",
    "assign_student(student)\n"
   ]
  },
  {
   "cell_type": "code",
   "execution_count": null,
   "metadata": {},
   "outputs": [],
   "source": []
  },
  {
   "cell_type": "code",
   "execution_count": null,
   "metadata": {},
   "outputs": [],
   "source": []
  },
  {
   "cell_type": "code",
   "execution_count": null,
   "metadata": {},
   "outputs": [],
   "source": []
  },
  {
   "cell_type": "markdown",
   "metadata": {},
   "source": [
    "##### Returning Values"
   ]
  },
  {
   "cell_type": "code",
   "execution_count": null,
   "metadata": {},
   "outputs": [],
   "source": [
    "# Mathematical Function - y = f(x)\n",
    "# Where f is the function, x is the input(s), and y is the dependent variable (or the return variable)\n"
   ]
  },
  {
   "cell_type": "code",
   "execution_count": 80,
   "metadata": {},
   "outputs": [
    {
     "name": "stdout",
     "output_type": "stream",
     "text": [
      "10\n"
     ]
    }
   ],
   "source": [
    "def f(x):\n",
    "    return 2*x\n",
    "\n",
    "y = f(5)\n",
    "print(y)"
   ]
  },
  {
   "cell_type": "code",
   "execution_count": 82,
   "metadata": {},
   "outputs": [
    {
     "name": "stdout",
     "output_type": "stream",
     "text": [
      "20 400\n"
     ]
    }
   ],
   "source": [
    "z = f(10)\n",
    "print(z, z**2)"
   ]
  },
  {
   "cell_type": "code",
   "execution_count": 86,
   "metadata": {
    "scrolled": true
   },
   "outputs": [
    {
     "data": {
      "text/plain": [
       "0"
      ]
     },
     "execution_count": 86,
     "metadata": {},
     "output_type": "execute_result"
    }
   ],
   "source": [
    "# Return will also immediately terminate the function\n",
    "def early_return(n):\n",
    "    for i in range(n):\n",
    "        return i\n",
    "        \n",
    "        \n",
    "early_return(10)"
   ]
  },
  {
   "cell_type": "code",
   "execution_count": null,
   "metadata": {},
   "outputs": [],
   "source": []
  },
  {
   "cell_type": "code",
   "execution_count": null,
   "metadata": {},
   "outputs": [],
   "source": []
  },
  {
   "cell_type": "markdown",
   "metadata": {},
   "source": [
    "#### Multiple returns in a function"
   ]
  },
  {
   "cell_type": "code",
   "execution_count": 87,
   "metadata": {},
   "outputs": [
    {
     "name": "stdout",
     "output_type": "stream",
     "text": [
      "True\n",
      "False\n"
     ]
    }
   ],
   "source": [
    "def can_vote(birth_year):\n",
    "    if 2023 - birth_year >= 18:\n",
    "        return True \n",
    "    else:\n",
    "        return False\n",
    "    \n",
    "print(can_vote(2000))\n",
    "print(can_vote(2006))"
   ]
  },
  {
   "cell_type": "code",
   "execution_count": 89,
   "metadata": {},
   "outputs": [
    {
     "name": "stdout",
     "output_type": "stream",
     "text": [
      "True\n",
      "False\n"
     ]
    }
   ],
   "source": [
    "def can_vote(birth_year):\n",
    "    if 2023 - birth_year >= 18:\n",
    "        return True \n",
    "    return False\n",
    "    \n",
    "print(can_vote(2000))\n",
    "print(can_vote(2006))"
   ]
  },
  {
   "cell_type": "code",
   "execution_count": 91,
   "metadata": {},
   "outputs": [
    {
     "name": "stdout",
     "output_type": "stream",
     "text": [
      "True\n",
      "False\n"
     ]
    }
   ],
   "source": [
    "def can_vote(birth_year):\n",
    "    return 2023 - birth_year >= 18\n",
    "    \n",
    "    \n",
    "print(can_vote(2000))\n",
    "print(can_vote(2006))"
   ]
  },
  {
   "cell_type": "code",
   "execution_count": 96,
   "metadata": {},
   "outputs": [
    {
     "data": {
      "text/plain": [
       "-1"
      ]
     },
     "execution_count": 96,
     "metadata": {},
     "output_type": "execute_result"
    }
   ],
   "source": [
    "def linear_search(list_to_search, target):\n",
    "    for i in range(len(list_to_search)):\n",
    "        if list_to_search[i] == target:\n",
    "            return f\"{target} is at index {i}\"\n",
    "        return -1 \n",
    "    \n",
    "linear_search([2, 4, 6, 9, 13, 15, 23, 28, 45],13)"
   ]
  },
  {
   "cell_type": "markdown",
   "metadata": {},
   "source": [
    "##### Difference between `return` and `print`"
   ]
  },
  {
   "cell_type": "code",
   "execution_count": 99,
   "metadata": {},
   "outputs": [
    {
     "ename": "SyntaxError",
     "evalue": "unmatched ')' (3371831321.py, line 5)",
     "output_type": "error",
     "traceback": [
      "\u001b[1;36m  File \u001b[1;32m\"C:\\Users\\nikki\\AppData\\Local\\Temp\\ipykernel_131704\\3371831321.py\"\u001b[1;36m, line \u001b[1;32m5\u001b[0m\n\u001b[1;33m    return message.strip().title() + '!')\u001b[0m\n\u001b[1;37m                                        ^\u001b[0m\n\u001b[1;31mSyntaxError\u001b[0m\u001b[1;31m:\u001b[0m unmatched ')'\n"
     ]
    }
   ],
   "source": [
    "def create_headline_print(message):\n",
    "    print(message.strip().title() + '!')\n",
    "    \n",
    "def create_headline_return(message):\n",
    "    return message.strip().title() + '!')"
   ]
  },
  {
   "cell_type": "code",
   "execution_count": 98,
   "metadata": {},
   "outputs": [
    {
     "ename": "NameError",
     "evalue": "name 'create_headline_print' is not defined",
     "output_type": "error",
     "traceback": [
      "\u001b[1;31m---------------------------------------------------------------------------\u001b[0m",
      "\u001b[1;31mNameError\u001b[0m                                 Traceback (most recent call last)",
      "\u001b[1;32m~\\AppData\\Local\\Temp\\ipykernel_131704\\583600841.py\u001b[0m in \u001b[0;36m<module>\u001b[1;34m\u001b[0m\n\u001b[1;32m----> 1\u001b[1;33m \u001b[0mcreate_headline_print\u001b[0m\u001b[1;33m(\u001b[0m\u001b[1;34m'        suPEr BowL SUNday         '\u001b[0m\u001b[1;33m)\u001b[0m\u001b[1;33m\u001b[0m\u001b[1;33m\u001b[0m\u001b[0m\n\u001b[0m",
      "\u001b[1;31mNameError\u001b[0m: name 'create_headline_print' is not defined"
     ]
    }
   ],
   "source": [
    "create_headline_print('        suPEr BowL SUNday         ')"
   ]
  },
  {
   "cell_type": "code",
   "execution_count": null,
   "metadata": {},
   "outputs": [],
   "source": []
  },
  {
   "cell_type": "markdown",
   "metadata": {},
   "source": [
    "#### Functions with Lists"
   ]
  },
  {
   "cell_type": "code",
   "execution_count": null,
   "metadata": {},
   "outputs": [],
   "source": [
    "bands = ['  thE beATles   ', 'tHe RoLLing sTones..', '.,tHe eagles', 'the tEMptationS  ']\n",
    "bands2 = [' The whO  ', '  .   , tHE dOORS  ', ' the bAnd   ', '...,  THE kINks    ']"
   ]
  },
  {
   "cell_type": "code",
   "execution_count": 101,
   "metadata": {},
   "outputs": [],
   "source": [
    "def clean_band_names(messy_bands):\n",
    "    clean_bands = [band.strip(' ., ').title() for band in messy_bands]\n",
    "    return clean_bands"
   ]
  },
  {
   "cell_type": "code",
   "execution_count": 103,
   "metadata": {},
   "outputs": [
    {
     "name": "stdout",
     "output_type": "stream",
     "text": [
      "['The Beatles', 'The Rolling Stones', 'The Eagles', 'The Temptations']\n"
     ]
    }
   ],
   "source": [
    "cleaned_bands1 = clean_band_names(bands)\n",
    "print(cleaned_bands1)"
   ]
  },
  {
   "cell_type": "code",
   "execution_count": 104,
   "metadata": {},
   "outputs": [
    {
     "name": "stdout",
     "output_type": "stream",
     "text": [
      "['The Who', 'The Doors', 'The Band', 'The Kinks']\n"
     ]
    }
   ],
   "source": [
    "cleaned_bands2 = clean_band_names(bands2)\n",
    "print(cleaned_bands2)"
   ]
  },
  {
   "cell_type": "code",
   "execution_count": null,
   "metadata": {},
   "outputs": [],
   "source": []
  },
  {
   "cell_type": "markdown",
   "metadata": {},
   "source": [
    "#### In-Class Exercise 2"
   ]
  },
  {
   "cell_type": "markdown",
   "metadata": {},
   "source": [
    "Create a function that takes in the list of tuples ('city', 'country') and a country name and returns a list of the cities in that country"
   ]
  },
  {
   "cell_type": "code",
   "execution_count": 107,
   "metadata": {},
   "outputs": [
    {
     "ename": "NameError",
     "evalue": "name 'list_of_tuples' is not defined",
     "output_type": "error",
     "traceback": [
      "\u001b[1;31m---------------------------------------------------------------------------\u001b[0m",
      "\u001b[1;31mNameError\u001b[0m                                 Traceback (most recent call last)",
      "\u001b[1;32m~\\AppData\\Local\\Temp\\ipykernel_131704\\2943725185.py\u001b[0m in \u001b[0;36m<module>\u001b[1;34m\u001b[0m\n\u001b[0;32m     13\u001b[0m     \u001b[1;32mpass\u001b[0m\u001b[1;33m\u001b[0m\u001b[1;33m\u001b[0m\u001b[0m\n\u001b[0;32m     14\u001b[0m \u001b[1;33m\u001b[0m\u001b[0m\n\u001b[1;32m---> 15\u001b[1;33m \u001b[0mcities_in_country\u001b[0m\u001b[1;33m(\u001b[0m\u001b[0mcities\u001b[0m\u001b[1;33m,\u001b[0m \u001b[1;34m'Italy'\u001b[0m\u001b[1;33m)\u001b[0m \u001b[1;31m#['rome', 'Florence']\u001b[0m\u001b[1;33m\u001b[0m\u001b[1;33m\u001b[0m\u001b[0m\n\u001b[0m\u001b[0;32m     16\u001b[0m \u001b[0mcities_in_country\u001b[0m\u001b[1;33m(\u001b[0m\u001b[0mcities\u001b[0m\u001b[1;33m,\u001b[0m \u001b[1;34m'England'\u001b[0m\u001b[1;33m)\u001b[0m \u001b[1;31m# ['London', 'England']\u001b[0m\u001b[1;33m\u001b[0m\u001b[1;33m\u001b[0m\u001b[0m\n",
      "\u001b[1;32m~\\AppData\\Local\\Temp\\ipykernel_131704\\2943725185.py\u001b[0m in \u001b[0;36mcities_in_country\u001b[1;34m(list_of_tuple, country_name)\u001b[0m\n\u001b[0;32m     10\u001b[0m \u001b[1;32mdef\u001b[0m \u001b[0mcities_in_country\u001b[0m\u001b[1;33m(\u001b[0m\u001b[0mlist_of_tuple\u001b[0m\u001b[1;33m,\u001b[0m \u001b[0mcountry_name\u001b[0m\u001b[1;33m)\u001b[0m\u001b[1;33m:\u001b[0m\u001b[1;33m\u001b[0m\u001b[1;33m\u001b[0m\u001b[0m\n\u001b[0;32m     11\u001b[0m     \u001b[1;31m#code here\u001b[0m\u001b[1;33m\u001b[0m\u001b[1;33m\u001b[0m\u001b[0m\n\u001b[1;32m---> 12\u001b[1;33m     \u001b[0mprint\u001b[0m\u001b[1;33m(\u001b[0m\u001b[0mlist_of_tuples\u001b[0m\u001b[1;33m,\u001b[0m \u001b[0mcountry_name\u001b[0m\u001b[1;33m)\u001b[0m\u001b[1;33m\u001b[0m\u001b[1;33m\u001b[0m\u001b[0m\n\u001b[0m\u001b[0;32m     13\u001b[0m     \u001b[1;32mpass\u001b[0m\u001b[1;33m\u001b[0m\u001b[1;33m\u001b[0m\u001b[0m\n\u001b[0;32m     14\u001b[0m \u001b[1;33m\u001b[0m\u001b[0m\n",
      "\u001b[1;31mNameError\u001b[0m: name 'list_of_tuples' is not defined"
     ]
    }
   ],
   "source": [
    "cities = [\n",
    "    (\"London\", \"England\"), \n",
    "    (\"Manchester\", \"England\"), \n",
    "    (\"Barcelona\", \"Spain\"), \n",
    "    (\"Madrid\", \"Spain\"), \n",
    "    (\"Rome\", \"Italy\"), \n",
    "    (\"Florence\", \"Italy\")\n",
    "]\n",
    "\n",
    "def cities_in_country(list_of_tuple, country_name):\n",
    "    #code here\n",
    "    print(list_of_tuples, country_name)\n",
    "    pass\n",
    "\n",
    "cities_in_country(cities, 'Italy') #['rome', 'Florence']\n",
    "cities_in_country(cities, 'England') # ['London', 'England']"
   ]
  },
  {
   "cell_type": "code",
   "execution_count": null,
   "metadata": {},
   "outputs": [],
   "source": []
  },
  {
   "cell_type": "code",
   "execution_count": null,
   "metadata": {},
   "outputs": [],
   "source": []
  },
  {
   "cell_type": "code",
   "execution_count": null,
   "metadata": {},
   "outputs": [],
   "source": []
  },
  {
   "cell_type": "markdown",
   "metadata": {},
   "source": [
    "#### Docstrings"
   ]
  },
  {
   "cell_type": "code",
   "execution_count": null,
   "metadata": {},
   "outputs": [],
   "source": []
  },
  {
   "cell_type": "code",
   "execution_count": null,
   "metadata": {},
   "outputs": [],
   "source": []
  },
  {
   "cell_type": "code",
   "execution_count": null,
   "metadata": {},
   "outputs": [],
   "source": []
  },
  {
   "cell_type": "markdown",
   "metadata": {},
   "source": [
    "#### Whiteboard Approach"
   ]
  },
  {
   "cell_type": "markdown",
   "metadata": {},
   "source": [
    "1. What are the input(s)?\n",
    "2. What are the output(s)?\n",
    "3. Consider constraints and edge cases\n",
    "4. Write out steps logically (No python)\n",
    "5. Pseudocode\n",
    "6. Code"
   ]
  },
  {
   "cell_type": "markdown",
   "metadata": {},
   "source": [
    "#### Whiteboard Example"
   ]
  },
  {
   "cell_type": "markdown",
   "metadata": {},
   "source": [
    "Find Even numbers<br>\n",
    "Create a function that, given a list as a parameter, finds the even numbers <br>\n",
    "inside the list. The function should then return a list.<br>\n",
    "Bonus: Use a list comprehension to find your solution<br>\n",
    "Example:<br>\n",
    "Input: [2, 7, 10, 11, 12]<br>\n",
    "Output: [2, 10, 12]<br>"
   ]
  },
  {
   "cell_type": "code",
   "execution_count": null,
   "metadata": {},
   "outputs": [],
   "source": [
    "#inputs(s): list[int]\n",
    "#output: list[int] -> all int should be even\n",
    "#if input list is empty or has no events, return an empty list. can assume all int in input are between 0 and 100\n",
    "        \n",
    "#go through list,check each item and see if it even\n",
    "if so, add that item to the list of even numbers in lis, return list to even numbers\n",
    "\n",
    "# define a function that accepts parameter\n",
    "def get_evens(list_of_nums):\n",
    "# define and empty list to keep track of our even numbers\n",
    "    even nums = []\n",
    "#loop through the list we were given\n",
    "    if num % 2 ==0\n",
    "# if the element is even aka has a remainder of 0 when divided by 2\n",
    "        even_nums.append(num)\n",
    "#append num to the even numbers list\n",
    "\n",
    "#if the element is not even, do nothing\n",
    "\n",
    "#once finished Looping, return the even nums list\n",
    "    return even_nums"
   ]
  },
  {
   "cell_type": "code",
   "execution_count": null,
   "metadata": {},
   "outputs": [],
   "source": []
  }
 ],
 "metadata": {
  "kernelspec": {
   "display_name": "Python 3 (ipykernel)",
   "language": "python",
   "name": "python3"
  },
  "language_info": {
   "codemirror_mode": {
    "name": "ipython",
    "version": 3
   },
   "file_extension": ".py",
   "mimetype": "text/x-python",
   "name": "python",
   "nbconvert_exporter": "python",
   "pygments_lexer": "ipython3",
   "version": "3.9.13"
  }
 },
 "nbformat": 4,
 "nbformat_minor": 2
}
